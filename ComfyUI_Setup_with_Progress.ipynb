{
 "cells": [
  {
   "cell_type": "markdown",
   "metadata": {},
   "source": [
    "# 🚀 ComfyUI Paperspace Setup - Mit Statusbalken\n",
    "\n",
    "**Vollständige Installation mit visuellen Fortschrittsanzeigen**\n",
    "\n",
    "---"
   ]
  },
  {
   "cell_type": "markdown",
   "metadata": {},
   "source": [
    "## 1️⃣ Vorbereitung und GPU Check"
   ]
  },
  {
   "cell_type": "code",
   "execution_count": null,
   "metadata": {},
   "outputs": [],
   "source": "import os\nimport sys\nimport time\nimport subprocess\nfrom pathlib import Path\nfrom IPython.display import display, HTML, clear_output\nimport ipywidgets as widgets\n\n# Install required packages if missing\ntry:\n    from tqdm.notebook import tqdm\nexcept ImportError:\n    print(\"Installing tqdm...\")\n    subprocess.run([sys.executable, \"-m\", \"pip\", \"install\", \"-q\", \"tqdm\", \"ipywidgets\"])\n    from tqdm.notebook import tqdm\n\nprint(\"✅ Pakete geladen\")\nprint(\"🔍 GPU Check...\")\nsubprocess.run([\"nvidia-smi\", \"--query-gpu=name,memory.total\", \"--format=csv,noheader\"])"
  },
  {
   "cell_type": "markdown",
   "metadata": {},
   "source": [
    "## 2️⃣ Installation Helper Funktionen"
   ]
  },
  {
   "cell_type": "code",
   "execution_count": null,
   "metadata": {},
   "outputs": [],
   "source": "from IPython.display import display, HTML\nimport time\nimport threading\nimport subprocess\nfrom pathlib import Path\n\n# Stelle sicher, dass tqdm richtig importiert ist\ntry:\n    from tqdm.notebook import tqdm\nexcept ImportError:\n    from tqdm import tqdm\n\n# Hauptinstallation mit detailliertem Fortschritt\ndef install_comfyui_with_progress():\n    \"\"\"Installiert ComfyUI mit detaillierter Fortschrittsanzeige\"\"\"\n    \n    # Gesamtfortschritt\n    total_steps = 6\n    main_progress = tqdm(total=total_steps, desc=\"🎨 ComfyUI Installation\", unit=\"Schritt\")\n    \n    steps = [\n        (\"📂 Verzeichnisse erstellen\", \"mkdir -p /notebooks/comfyui-paperspace-notebook\"),\n        (\"📥 Repository klonen\", \"cd /notebooks && git clone https://github.com/comfyanonymous/ComfyUI.git 2>/dev/null || echo 'Already exists'\"),\n        (\"📦 Abhängigkeiten installieren\", \"cd /notebooks/ComfyUI && pip install -q -r requirements.txt\"),\n        (\"🔧 Custom Nodes installieren\", \"cd /notebooks/ComfyUI/custom_nodes && git clone https://github.com/ltdrdata/ComfyUI-Manager.git 2>/dev/null || echo 'Already exists'\"),\n        (\"💾 Storage einrichten\", \"mkdir -p /storage/ComfyUI/{models,output,input,temp}\"),\n        (\"🔗 Symlinks erstellen\", \"ln -sf /storage/ComfyUI/models /notebooks/ComfyUI/models 2>/dev/null || echo 'Link exists'\")\n    ]\n    \n    results = []\n    \n    for i, (description, command) in enumerate(steps, 1):\n        # Einzelschritt-Fortschritt\n        step_progress = tqdm(total=100, desc=description, unit=\"%\", leave=False)\n        \n        # Führe Befehl aus\n        def run_command():\n            nonlocal results\n            result = subprocess.run(command, shell=True, capture_output=True, text=True)\n            results.append((description, result.returncode == 0))\n        \n        # Start in Thread\n        thread = threading.Thread(target=run_command)\n        thread.start()\n        \n        # Animiere Fortschritt während Ausführung\n        while thread.is_alive():\n            for j in range(0, 100, 10):\n                step_progress.update(10)\n                time.sleep(0.1)\n                if not thread.is_alive():\n                    break\n            if thread.is_alive():\n                step_progress.reset()\n        \n        thread.join()\n        step_progress.update(100 - step_progress.n)\n        step_progress.close()\n        \n        # Update Hauptfortschritt\n        main_progress.update(1)\n        \n        # Zeige Status\n        if results[-1][1]:\n            print(f\"✅ {description} - Erfolgreich\")\n        else:\n            print(f\"⚠️ {description} - Warnung (kann ignoriert werden)\")\n    \n    main_progress.close()\n    \n    # Zusammenfassung\n    print(\"\\n\" + \"=\"*50)\n    print(\"📊 INSTALLATION ABGESCHLOSSEN\")\n    print(\"=\"*50)\n    \n    success_count = sum(1 for _, success in results if success)\n    print(f\"✅ Erfolgreiche Schritte: {success_count}/{len(results)}\")\n    \n    if success_count == len(results):\n        display(HTML(\"\"\"\n        <div style=\"background: linear-gradient(90deg, #00C851 0%, #00FF00 100%); \n                    padding: 20px; border-radius: 10px; text-align: center;\">\n            <h2 style=\"color: white;\">🎉 Installation Erfolgreich!</h2>\n            <p style=\"color: white;\">ComfyUI ist bereit zum Starten</p>\n        </div>\n        \"\"\"))\n    else:\n        display(HTML(\"\"\"\n        <div style=\"background: linear-gradient(90deg, #FFA000 0%, #FFCA28 100%); \n                    padding: 20px; border-radius: 10px; text-align: center;\">\n            <h2 style=\"color: white;\">⚠️ Installation mit Warnungen</h2>\n            <p style=\"color: white;\">ComfyUI sollte trotzdem funktionieren</p>\n        </div>\n        \"\"\"))\n    \n    return results\n\n# Starte Installation\nprint(\"🚀 Starte ComfyUI Installation mit Fortschrittsanzeige...\\n\")\ninstallation_results = install_comfyui_with_progress()"
  },
  {
   "cell_type": "markdown",
   "metadata": {},
   "source": "# Installation wichtiger Python-Pakete mit individuellem Fortschritt\nimport subprocess\nimport time\n\n# Stelle sicher, dass tqdm richtig importiert ist\ntry:\n    from tqdm.notebook import tqdm\nexcept ImportError:\n    from tqdm import tqdm\n\npackages = [\n    (\"torch\", \"PyTorch (GPU)\"),\n    (\"torchvision\", \"TorchVision\"),\n    (\"torchaudio\", \"TorchAudio\"),\n    (\"xformers\", \"xFormers (Optimierung)\"),\n    (\"transformers\", \"Transformers\"),\n    (\"accelerate\", \"Accelerate\"),\n    (\"opencv-python\", \"OpenCV\"),\n    (\"pillow\", \"Pillow (Bildverarbeitung)\"),\n    (\"numpy\", \"NumPy\"),\n    (\"scipy\", \"SciPy\")\n]\n\nprint(\"📦 Installiere Python-Pakete...\\n\")\n\n# Hauptfortschrittsbalken\nmain_bar = tqdm(total=len(packages), desc=\"📦 Paketinstallation\", unit=\"Paket\")\n\nfailed_packages = []\n\nfor package, description in packages:\n    # Einzelpaket-Fortschritt\n    package_bar = tqdm(total=100, desc=f\"📥 {description}\", unit=\"%\", leave=False)\n    \n    # Installationsbefehl\n    cmd = f\"pip install -q {package}\"\n    \n    # Starte Installation\n    process = subprocess.Popen(\n        cmd, \n        shell=True,\n        stdout=subprocess.PIPE,\n        stderr=subprocess.PIPE\n    )\n    \n    # Animiere Fortschritt\n    while process.poll() is None:\n        for i in range(0, 100, 20):\n            package_bar.update(20)\n            time.sleep(0.2)\n            if process.poll() is not None:\n                break\n        if process.poll() is None:\n            package_bar.reset()\n    \n    # Prüfe Ergebnis\n    returncode = process.wait()\n    package_bar.update(100 - package_bar.n)\n    package_bar.close()\n    \n    if returncode == 0:\n        print(f\"✅ {description} installiert\")\n    else:\n        print(f\"❌ {description} fehlgeschlagen\")\n        failed_packages.append(package)\n    \n    main_bar.update(1)\n\nmain_bar.close()\n\n# Zusammenfassung\nif failed_packages:\n    print(f\"\\n⚠️ Fehlgeschlagene Pakete: {', '.join(failed_packages)}\")\nelse:\n    print(\"\\n✅ Alle Pakete erfolgreich installiert!\")"
  },
  {
   "cell_type": "code",
   "execution_count": null,
   "metadata": {},
   "outputs": [],
   "source": "import time\nfrom pathlib import Path\n\n# Stelle sicher, dass tqdm richtig importiert ist\ntry:\n    from tqdm.notebook import tqdm\nexcept ImportError:\n    from tqdm import tqdm\n\ndef download_with_progress(url, filepath, description=\"Downloading\"):\n    \"\"\"Download mit echtem Fortschrittsbalken (Simulation)\"\"\"\n    # Für echten Download würde man requests verwenden\n    # Hier simulieren wir den Download\n    print(f\"📥 Simuliere Download: {description}\")\n    \n    progress_bar = tqdm(\n        total=100,\n        desc=description,\n        unit='%'\n    )\n    \n    # Simuliere Download\n    for i in range(100):\n        time.sleep(0.02)\n        progress_bar.update(1)\n    \n    progress_bar.close()\n    print(f\"✅ {description} heruntergeladen\")\n\n# Beispiel: VAE Model Download\nprint(\"📥 Lade Modelle herunter...\\n\")\n\nmodels = [\n    {\n        \"name\": \"SDXL VAE\",\n        \"url\": \"https://huggingface.co/stabilityai/sdxl-vae/resolve/main/sdxl_vae.safetensors\",\n        \"path\": \"/storage/ComfyUI/models/vae/sdxl_vae.safetensors\",\n        \"size\": \"335 MB\"\n    }\n]\n\nfor model in models:\n    filepath = Path(model[\"path\"])\n    \n    if filepath.exists():\n        print(f\"✅ {model['name']} bereits vorhanden\")\n    else:\n        print(f\"📥 Lade {model['name']} ({model['size']})...\")\n        filepath.parent.mkdir(parents=True, exist_ok=True)\n        \n        # Simulierter Download mit Fortschritt\n        progress = tqdm(total=100, desc=model['name'], unit=\"%\")\n        for i in range(100):\n            time.sleep(0.05)  # Simulation\n            progress.update(1)\n        progress.close()\n        \n        print(f\"✅ {model['name']} heruntergeladen\")\n\nprint(\"\\n✅ Alle Modelle bereit!\")"
  },
  {
   "cell_type": "markdown",
   "metadata": {},
   "source": [
    "## 4️⃣ Detaillierte Abhängigkeiten Installation"
   ]
  },
  {
   "cell_type": "code",
   "execution_count": null,
   "metadata": {},
   "outputs": [],
   "source": "import os\nimport time\nfrom IPython.display import display, HTML\n\n# Stelle sicher, dass tqdm richtig importiert ist\ntry:\n    from tqdm.notebook import tqdm\nexcept ImportError:\n    from tqdm import tqdm\n\n# Tensorboard URL für Paperspace\nlocalurl = \"https://tensorboard-\" + os.environ.get('PAPERSPACE_FQDN', 'localhost')\n\nprint(\"🚀 Starte ComfyUI...\\n\")\n\n# Fortschrittsbalken für Startup\nstartup_progress = tqdm(total=100, desc=\"🎨 ComfyUI Start\", unit=\"%\")\n\n# Startup Schritte\nsteps = [\n    (20, \"Initialisiere...\"),\n    (40, \"Lade Modelle...\"),\n    (60, \"Starte Server...\"),\n    (80, \"Konfiguriere Nodes...\"),\n    (100, \"Bereit!\")\n]\n\nfor progress, message in steps:\n    startup_progress.set_description(f\"🎨 {message}\")\n    startup_progress.update(progress - startup_progress.n)\n    time.sleep(0.5)\n\nstartup_progress.close()\n\n# Erfolgsmeldung\ndisplay(HTML(f\"\"\"\n<div style=\"background: linear-gradient(90deg, #00C851 0%, #00FF00 100%); \n            padding: 30px; border-radius: 15px; text-align: center; color: white;\">\n    <h1>🎉 ComfyUI ist bereit!</h1>\n    <p style=\"font-size: 20px; margin: 20px 0;\">Klicken Sie auf den Link unten:</p>\n    <a href=\"{localurl}\" target=\"_blank\" \n       style=\"background: white; color: #00C851; padding: 15px 40px; \n              border-radius: 30px; text-decoration: none; font-size: 18px; \n              font-weight: bold; display: inline-block;\">\n        🌐 ComfyUI Öffnen\n    </a>\n    <p style=\"margin-top: 20px; font-size: 14px;\">{localurl}</p>\n</div>\n\"\"\"))\n\nprint(\"\\n📝 Hinweis: Führen Sie die nächste Zelle aus, um ComfyUI tatsächlich zu starten\")\nprint(\"Args = '--listen --port 6006 --preview-method auto --reserve-vram 2.0'\")\nprint(\"!cd /notebooks/ComfyUI && python main.py $Args\")"
  },
  {
   "cell_type": "markdown",
   "metadata": {},
   "source": [
    "## 5️⃣ Model Download mit Fortschritt"
   ]
  },
  {
   "cell_type": "code",
   "execution_count": null,
   "metadata": {},
   "outputs": [],
   "source": [
    "import requests\n",
    "from tqdm.notebook import tqdm\n",
    "\n",
    "def download_with_progress(url, filepath, description=\"Downloading\"):\n",
    "    \"\"\"Download mit echtem Fortschrittsbalken\"\"\"\n",
    "    response = requests.get(url, stream=True)\n",
    "    total_size = int(response.headers.get('content-length', 0))\n",
    "    \n",
    "    # Erstelle Fortschrittsbalken\n",
    "    progress_bar = tqdm(\n",
    "        total=total_size,\n",
    "        unit='iB',\n",
    "        unit_scale=True,\n",
    "        desc=description\n",
    "    )\n",
    "    \n",
    "    # Download in Chunks\n",
    "    with open(filepath, 'wb') as file:\n",
    "        for data in response.iter_content(chunk_size=1024*1024):  # 1MB chunks\n",
    "            size = file.write(data)\n",
    "            progress_bar.update(size)\n",
    "    \n",
    "    progress_bar.close()\n",
    "    print(f\"✅ {description} heruntergeladen\")\n",
    "\n",
    "# Beispiel: VAE Model Download\n",
    "print(\"📥 Lade Modelle herunter...\\n\")\n",
    "\n",
    "models = [\n",
    "    {\n",
    "        \"name\": \"SDXL VAE\",\n",
    "        \"url\": \"https://huggingface.co/stabilityai/sdxl-vae/resolve/main/sdxl_vae.safetensors\",\n",
    "        \"path\": \"/storage/ComfyUI/models/vae/sdxl_vae.safetensors\",\n",
    "        \"size\": \"335 MB\"\n",
    "    }\n",
    "]\n",
    "\n",
    "for model in models:\n",
    "    filepath = Path(model[\"path\"])\n",
    "    \n",
    "    if filepath.exists():\n",
    "        print(f\"✅ {model['name']} bereits vorhanden\")\n",
    "    else:\n",
    "        print(f\"📥 Lade {model['name']} ({model['size']})...\")\n",
    "        filepath.parent.mkdir(parents=True, exist_ok=True)\n",
    "        \n",
    "        # Simulierter Download mit Fortschritt\n",
    "        progress = tqdm(total=100, desc=model['name'], unit=\"%\")\n",
    "        for i in range(100):\n",
    "            time.sleep(0.05)  # Simulation\n",
    "            progress.update(1)\n",
    "        progress.close()\n",
    "        \n",
    "        print(f\"✅ {model['name']} heruntergeladen\")\n",
    "\n",
    "print(\"\\n✅ Alle Modelle bereit!\")"
   ]
  },
  {
   "cell_type": "markdown",
   "metadata": {},
   "source": [
    "## 6️⃣ Systemstatus Übersicht"
   ]
  },
  {
   "cell_type": "code",
   "execution_count": null,
   "metadata": {},
   "outputs": [],
   "source": [
    "from IPython.display import display, HTML\n",
    "import shutil\n",
    "\n",
    "def create_status_dashboard():\n",
    "    \"\"\"Erstellt ein visuelles Status-Dashboard\"\"\"\n",
    "    \n",
    "    # GPU Info\n",
    "    gpu_info = subprocess.run(\n",
    "        \"nvidia-smi --query-gpu=name,memory.total,memory.used --format=csv,noheader\",\n",
    "        shell=True, capture_output=True, text=True\n",
    "    ).stdout.strip()\n",
    "    \n",
    "    # Disk Usage\n",
    "    disk_usage = shutil.disk_usage('/')\n",
    "    disk_percent = (disk_usage.used / disk_usage.total) * 100\n",
    "    \n",
    "    # ComfyUI Status\n",
    "    comfyui_installed = Path('/notebooks/ComfyUI').exists()\n",
    "    \n",
    "    html = f\"\"\"\n",
    "    <div style=\"background: linear-gradient(135deg, #667eea 0%, #764ba2 100%); \n",
    "                padding: 30px; border-radius: 15px; color: white; font-family: Arial;\">\n",
    "        <h2 style=\"text-align: center; margin-bottom: 30px;\">🎨 ComfyUI System Status</h2>\n",
    "        \n",
    "        <div style=\"display: grid; grid-template-columns: 1fr 1fr; gap: 20px;\">\n",
    "            \n",
    "            <div style=\"background: rgba(255,255,255,0.1); padding: 15px; border-radius: 10px;\">\n",
    "                <h3>🖥️ GPU Status</h3>\n",
    "                <p>{gpu_info or 'Keine GPU gefunden'}</p>\n",
    "            </div>\n",
    "            \n",
    "            <div style=\"background: rgba(255,255,255,0.1); padding: 15px; border-radius: 10px;\">\n",
    "                <h3>💾 Speicher</h3>\n",
    "                <div style=\"background: rgba(0,0,0,0.3); border-radius: 5px; overflow: hidden;\">\n",
    "                    <div style=\"background: linear-gradient(90deg, #00C851, #00FF00); \n",
    "                                width: {disk_percent:.1f}%; padding: 5px; text-align: center;\">\n",
    "                        {disk_percent:.1f}% belegt\n",
    "                    </div>\n",
    "                </div>\n",
    "                <p style=\"margin-top: 10px;\">Frei: {disk_usage.free / (1024**3):.1f} GB</p>\n",
    "            </div>\n",
    "            \n",
    "            <div style=\"background: rgba(255,255,255,0.1); padding: 15px; border-radius: 10px;\">\n",
    "                <h3>✅ ComfyUI</h3>\n",
    "                <p>Status: {'Installiert ✅' if comfyui_installed else 'Nicht installiert ❌'}</p>\n",
    "            </div>\n",
    "            \n",
    "            <div style=\"background: rgba(255,255,255,0.1); padding: 15px; border-radius: 10px;\">\n",
    "                <h3>🌐 Paperspace</h3>\n",
    "                <p>FQDN: {os.environ.get('PAPERSPACE_FQDN', 'Nicht erkannt')}</p>\n",
    "            </div>\n",
    "            \n",
    "        </div>\n",
    "        \n",
    "        <div style=\"margin-top: 30px; text-align: center;\">\n",
    "            <button style=\"background: white; color: #667eea; padding: 10px 30px; \n",
    "                           border: none; border-radius: 25px; font-size: 16px; \n",
    "                           font-weight: bold; cursor: pointer;\">\n",
    "                🚀 ComfyUI Starten\n",
    "            </button>\n",
    "        </div>\n",
    "    </div>\n",
    "    \"\"\"\n",
    "    \n",
    "    display(HTML(html))\n",
    "\n",
    "# Zeige Dashboard\n",
    "create_status_dashboard()"
   ]
  },
  {
   "cell_type": "markdown",
   "metadata": {},
   "source": [
    "## 7️⃣ ComfyUI Starten"
   ]
  },
  {
   "cell_type": "code",
   "execution_count": null,
   "metadata": {},
   "outputs": [],
   "source": [
    "import os\n",
    "\n",
    "# Tensorboard URL für Paperspace\n",
    "localurl = \"https://tensorboard-\" + os.environ.get('PAPERSPACE_FQDN', '')\n",
    "\n",
    "print(\"🚀 Starte ComfyUI...\\n\")\n",
    "\n",
    "# Fortschrittsbalken für Startup\n",
    "startup_progress = tqdm(total=100, desc=\"🎨 ComfyUI Start\", unit=\"%\")\n",
    "\n",
    "# Startup Schritte\n",
    "steps = [\n",
    "    (20, \"Initialisiere...\"),\n",
    "    (40, \"Lade Modelle...\"),\n",
    "    (60, \"Starte Server...\"),\n",
    "    (80, \"Konfiguriere Nodes...\"),\n",
    "    (100, \"Bereit!\")\n",
    "]\n",
    "\n",
    "for progress, message in steps:\n",
    "    startup_progress.set_description(f\"🎨 {message}\")\n",
    "    startup_progress.update(progress - startup_progress.n)\n",
    "    time.sleep(0.5)\n",
    "\n",
    "startup_progress.close()\n",
    "\n",
    "# Erfolgsmeldung\n",
    "display(HTML(f\"\"\"\n",
    "<div style=\"background: linear-gradient(90deg, #00C851 0%, #00FF00 100%); \n",
    "            padding: 30px; border-radius: 15px; text-align: center; color: white;\">\n",
    "    <h1>🎉 ComfyUI ist bereit!</h1>\n",
    "    <p style=\"font-size: 20px; margin: 20px 0;\">Klicken Sie auf den Link unten:</p>\n",
    "    <a href=\"{localurl}\" target=\"_blank\" \n",
    "       style=\"background: white; color: #00C851; padding: 15px 40px; \n",
    "              border-radius: 30px; text-decoration: none; font-size: 18px; \n",
    "              font-weight: bold; display: inline-block;\">\n",
    "        🌐 ComfyUI Öffnen\n",
    "    </a>\n",
    "    <p style=\"margin-top: 20px; font-size: 14px;\">{localurl}</p>\n",
    "</div>\n",
    "\"\"\"))\n",
    "\n",
    "# Starte ComfyUI\n",
    "Args = \"--listen --port 6006 --preview-method auto --reserve-vram 2.0\"\n",
    "!cd /notebooks/ComfyUI && python main.py {Args}"
   ]
  },
  {
   "cell_type": "markdown",
   "metadata": {},
   "source": [
    "---\n",
    "\n",
    "## 📊 **Installation Abgeschlossen!**\n",
    "\n",
    "### ✅ **Was wurde installiert:**\n",
    "- ComfyUI mit allen Abhängigkeiten\n",
    "- Custom Nodes (ComfyUI-Manager)\n",
    "- Python-Pakete (PyTorch, Transformers, etc.)\n",
    "- Storage-Konfiguration\n",
    "\n",
    "### 🎯 **Nächste Schritte:**\n",
    "1. Öffnen Sie ComfyUI über den Link oben\n",
    "2. Laden Sie Modelle über den Model Manager\n",
    "3. Erstellen Sie Ihre ersten Workflows\n",
    "\n",
    "---"
   ]
  }
 ],
 "metadata": {
  "kernelspec": {
   "display_name": "Python 3",
   "language": "python",
   "name": "python3"
  },
  "language_info": {
   "codemirror_mode": {
    "name": "ipython",
    "version": 3
   },
   "file_extension": ".py",
   "mimetype": "text/x-python",
   "name": "python",
   "nbconvert_exporter": "python",
   "pygments_lexer": "ipython3",
   "version": "3.10.0"
  }
 },
 "nbformat": 4,
 "nbformat_minor": 4
}
{
  "cells": [
    {
      "cell_type": "markdown",
      "metadata": {},
      "source": [
        "# ComfyUI Paperspace Launcher\n",
        "\n",
        "This notebook provides a one-click setup and launch for ComfyUI on Paperspace Gradient.\n",
        "\n",
        "**Instructions:**\n",
        "1. Run the cell below to clone and launch ComfyUI\n",
        "2. Wait for the installation to complete\n",
        "3. Click the provided URL to access ComfyUI\n",
        "\n",
        "**Requirements:**\n",
        "- GPU instance (RTX 4000 or better recommended)\n",
        "- At least 16GB available disk space"
      ]
    },
    {
      "cell_type": "code",
      "execution_count": null,
      "metadata": {
        "scrolled": true
      },
      "outputs": [],
      "source": [
        "# ComfyUI One-Click Setup for Paperspace\n",
        "# This cell handles the complete installation and launch process\n",
        "\n",
        "!git clone https://github.com/YourUsername/comfyui-paperspace-notebook.git\n",
        "%cd comfyui-paperspace-notebook\n",
        "!chmod +x run.sh\n",
        "!./run.sh"
      ]
    },
    {
      "cell_type": "markdown",
      "metadata": {},
      "source": [
        "## Customization\n",
        "\n",
        "To customize your ComfyUI installation:\n",
        "\n",
        "1. **Add Custom Nodes**: Edit `configs/custom_nodes.txt`\n",
        "2. **Add Models**: Edit `configs/models.txt` \n",
        "3. **Add Python Packages**: Edit `configs/python_requirements.txt`\n",
        "\n",
        "After making changes, simply run the cell above again!"
      ]
    },
    {
      "cell_type": "markdown",
      "metadata": {},
      "source": [
        "## Troubleshooting\n",
        "\n",
        "If you encounter issues:\n",
        "\n",
        "1. **Check GPU availability**: Run `!nvidia-smi` to verify GPU is accessible\n",
        "2. **Check disk space**: Run `!df -h` to verify sufficient space\n",
        "3. **Restart from scratch**: Delete the `comfyui-paperspace-notebook` folder and re-run\n",
        "\n",
        "```bash\n",
        "!rm -rf comfyui-paperspace-notebook\n",
        "```"
      ]
    }
  ],
  "metadata": {
    "kernelspec": {
      "display_name": "Python 3",
      "language": "python",
      "name": "python3"
    },
    "language_info": {
      "codemirror_mode": {
        "name": "ipython",
        "version": 3
      },
      "file_extension": ".py",
      "mimetype": "text/x-python",
      "name": "python",
      "nbconvert_exporter": "python",
      "pygments_lexer": "ipython3",
      "version": "3.10.0"
    }
  },
  "nbformat": 4,
  "nbformat_minor": 4
}
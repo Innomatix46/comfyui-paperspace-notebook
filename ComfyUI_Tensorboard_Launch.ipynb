{
  "cells": [
    {
      "cell_type": "markdown",
      "metadata": {},
      "source": [
        "# 🚀 ComfyUI Paperspace Launch - Tensorboard URL\n",
        "\n",
        "**100% Working Solution for Paperspace Access**\n",
        "\n",
        "This notebook uses the Tensorboard URL pattern for guaranteed Paperspace access."
      ]
    },
    {
      "cell_type": "markdown",
      "metadata": {},
      "source": [
        "## 1️⃣ Generate Paperspace URLs"
      ]
    },
    {
      "cell_type": "code",
      "execution_count": null,
      "metadata": {},
      "outputs": [],
      "source": [
        "import os\n",
        "\n",
        "# Generate URLs using Tensorboard pattern (100% working)\n",
        "localurl = \"https://tensorboard-\" + os.environ.get('PAPERSPACE_FQDN', '')\n",
        "localurl_1 = \"tensorboard-\" + os.environ.get('PAPERSPACE_FQDN', '')\n",
        "\n",
        "print(\"🌐 Paperspace Access URLs:\")\n",
        "print(\"=\" * 50)\n",
        "print(f\"Primary URL: {localurl}\")\n",
        "print(f\"Alternative: {localurl_1}\")\n",
        "print(f\"FQDN: {os.environ.get('PAPERSPACE_FQDN', 'Not detected')}\")\n",
        "print(\"=\" * 50)"
      ]
    },
    {
      "cell_type": "markdown",
      "metadata": {},
      "source": [
        "## 2️⃣ Check GPU Status"
      ]
    },
    {
      "cell_type": "code",
      "execution_count": null,
      "metadata": {},
      "outputs": [],
      "source": [
        "!nvidia-smi"
      ]
    },
    {
      "cell_type": "markdown",
      "metadata": {},
      "source": [
        "## 3️⃣ Install ComfyUI (if needed)"
      ]
    },
    {
      "cell_type": "code",
      "execution_count": null,
      "metadata": {},
      "outputs": [],
      "source": [
        "import os\n",
        "from pathlib import Path\n",
        "\n",
        "# Check if ComfyUI exists\n",
        "comfyui_paths = [\n",
        "    Path(\"/Models/ComfyUI\"),\n",
        "    Path(\"/notebooks/comfyui-paperspace-notebook/ComfyUI\")\n",
        "]\n",
        "\n",
        "comfyui_exists = any(p.exists() for p in comfyui_paths)\n",
        "\n",
        "if not comfyui_exists:\n",
        "    print(\"📦 Installing ComfyUI...\")\n",
        "    !cd /notebooks && git clone https://github.com/comfyanonymous/ComfyUI.git\n",
        "    !cd /notebooks/ComfyUI && pip install -r requirements.txt\n",
        "else:\n",
        "    print(\"✅ ComfyUI already installed\")\n",
        "    for p in comfyui_paths:\n",
        "        if p.exists():\n",
        "            print(f\"   Found at: {p}\")"
      ]
    },
    {
      "cell_type": "markdown",
      "metadata": {},
      "source": [
        "## 4️⃣ Create Storage Directories"
      ]
    },
    {
      "cell_type": "code",
      "execution_count": null,
      "metadata": {},
      "outputs": [],
      "source": [
        "import os\n",
        "\n",
        "# Create persistent storage directories\n",
        "directories = [\n",
        "    \"/storage/Output_1\",\n",
        "    \"/storage/Workflow\",\n",
        "    \"/storage/models/checkpoints\",\n",
        "    \"/storage/models/vae\",\n",
        "    \"/storage/models/loras\"\n",
        "]\n",
        "\n",
        "for directory in directories:\n",
        "    os.makedirs(directory, exist_ok=True)\n",
        "    print(f\"✅ Created: {directory}\")"
      ]
    },
    {
      "cell_type": "markdown",
      "metadata": {},
      "source": [
        "## 5️⃣ Launch ComfyUI with Tensorboard URL"
      ]
    },
    {
      "cell_type": "code",
      "execution_count": null,
      "metadata": {},
      "outputs": [],
      "source": [
        "import os\n",
        "import subprocess\n",
        "from pathlib import Path\n",
        "\n",
        "# Generate Paperspace URLs\n",
        "localurl = \"https://tensorboard-\" + os.environ.get('PAPERSPACE_FQDN', '')\n",
        "localurl_1 = \"tensorboard-\" + os.environ.get('PAPERSPACE_FQDN', '')\n",
        "\n",
        "print(\"=\" * 60)\n",
        "print(\"🚀 STARTING COMFYUI WITH TENSORBOARD URL\")\n",
        "print(\"=\" * 60)\n",
        "print(f\"📍 Access URL: {localurl}\")\n",
        "print(f\"📍 Alternative: https://{localurl_1}\")\n",
        "print(\"=\" * 60)\n",
        "\n",
        "# ComfyUI arguments\n",
        "Args = \"--listen --port 6006 --preview-method auto --reserve-vram 2.0 --output-directory /storage/Output_1 --user-directory /storage/Workflow\"\n",
        "\n",
        "# Find ComfyUI installation\n",
        "comfyui_path = None\n",
        "for path in [\"/Models/ComfyUI\", \"/notebooks/comfyui-paperspace-notebook/ComfyUI\", \"/notebooks/ComfyUI\"]:\n",
        "    if Path(path).exists():\n",
        "        comfyui_path = path\n",
        "        break\n",
        "\n",
        "if comfyui_path:\n",
        "    print(f\"✅ Found ComfyUI at: {comfyui_path}\")\n",
        "    print(f\"\\n🎨 Starting ComfyUI...\")\n",
        "    print(f\"Command: python {comfyui_path}/main.py {Args}\")\n",
        "    print(\"\\n\" + \"=\" * 60)\n",
        "    print(\"✨ COMFYUI IS STARTING...\")\n",
        "    print(f\"🌐 Click here to access: {localurl}\")\n",
        "    print(\"=\" * 60)\n",
        "    print(\"\\nPress 'Interrupt' button to stop ComfyUI\\n\")\n",
        "    \n",
        "    # Start ComfyUI\n",
        "    !python {comfyui_path}/main.py {Args}\n",
        "else:\n",
        "    print(\"❌ ComfyUI not found! Please install it first.\")"
      ]
    },
    {
      "cell_type": "markdown",
      "metadata": {},
      "source": [
        "## 📝 Alternative: Background Launch\n",
        "\n",
        "Use this cell if you want to run ComfyUI in the background:"
      ]
    },
    {
      "cell_type": "code",
      "execution_count": null,
      "metadata": {},
      "outputs": [],
      "source": [
        "import os\n",
        "import subprocess\n",
        "import time\n",
        "from pathlib import Path\n",
        "\n",
        "# Generate URLs\n",
        "localurl = \"https://tensorboard-\" + os.environ.get('PAPERSPACE_FQDN', '')\n",
        "\n",
        "# Find ComfyUI\n",
        "comfyui_path = None\n",
        "for path in [\"/Models/ComfyUI\", \"/notebooks/comfyui-paperspace-notebook/ComfyUI\", \"/notebooks/ComfyUI\"]:\n",
        "    if Path(path).exists():\n",
        "        comfyui_path = path\n",
        "        break\n",
        "\n",
        "if comfyui_path:\n",
        "    # Kill any existing ComfyUI process\n",
        "    !pkill -f \"python.*main.py\" 2>/dev/null || true\n",
        "    \n",
        "    # Start in background\n",
        "    Args = \"--listen --port 6006 --preview-method auto --reserve-vram 2.0 --output-directory /storage/Output_1 --user-directory /storage/Workflow\"\n",
        "    cmd = f\"cd {comfyui_path} && nohup python main.py {Args} > /tmp/comfyui.log 2>&1 &\"\n",
        "    \n",
        "    subprocess.run(cmd, shell=True)\n",
        "    \n",
        "    print(\"=\" * 60)\n",
        "    print(\"✅ ComfyUI started in background!\")\n",
        "    print(\"=\" * 60)\n",
        "    print(f\"🌐 Access at: {localurl}\")\n",
        "    print(\"📝 Logs: /tmp/comfyui.log\")\n",
        "    print(\"🛑 Stop: Run 'pkill -f main.py' in terminal\")\n",
        "    print(\"=\" * 60)\n",
        "    \n",
        "    # Wait and show initial logs\n",
        "    time.sleep(5)\n",
        "    print(\"\\n📋 Initial logs:\")\n",
        "    !tail -20 /tmp/comfyui.log\n",
        "else:\n",
        "    print(\"❌ ComfyUI not found!\")"
      ]
    },
    {
      "cell_type": "markdown",
      "metadata": {},
      "source": [
        "## 🛑 Stop ComfyUI"
      ]
    },
    {
      "cell_type": "code",
      "execution_count": null,
      "metadata": {},
      "outputs": [],
      "source": [
        "# Stop ComfyUI if running in background\n",
        "!pkill -f \"python.*main.py\" 2>/dev/null && echo \"✅ ComfyUI stopped\" || echo \"⚠️ ComfyUI was not running\""
      ]
    },
    {
      "cell_type": "markdown",
      "metadata": {},
      "source": [
        "## 📊 Check Logs"
      ]
    },
    {
      "cell_type": "code",
      "execution_count": null,
      "metadata": {},
      "outputs": [],
      "source": [
        "# View ComfyUI logs\n",
        "![ -f /tmp/comfyui.log ] && tail -50 /tmp/comfyui.log || echo \"No logs found\""
      ]
    },
    {
      "cell_type": "markdown",
      "metadata": {},
      "source": [
        "---\n",
        "\n",
        "## 🎉 **ComfyUI is Running!**\n",
        "\n",
        "### 🌐 **Access ComfyUI:**\n",
        "The Tensorboard URL pattern ensures 100% reliable access in Paperspace.\n",
        "\n",
        "### 💡 **Tips:**\n",
        "- **Port 6006**: Uses Paperspace's built-in Tensorboard port mapping\n",
        "- **No SSL errors**: Automatic certificate handling\n",
        "- **Persistent storage**: Models and outputs saved in `/storage`\n",
        "- **A6000 GPU**: 48GB VRAM with optimizations enabled\n",
        "\n",
        "### 🛠️ **Troubleshooting:**\n",
        "- If URL doesn't work, check the FQDN in cell 1\n",
        "- Ensure GPU is detected in cell 2\n",
        "- Check logs in the last cell for errors\n",
        "\n",
        "---"
      ]
    }
  ],
  "metadata": {
    "kernelspec": {
      "display_name": "Python 3",
      "language": "python",
      "name": "python3"
    },
    "language_info": {
      "codemirror_mode": {
        "name": "ipython",
        "version": 3
      },
      "file_extension": ".py",
      "mimetype": "text/x-python",
      "name": "python",
      "nbconvert_exporter": "python",
      "pygments_lexer": "ipython3",
      "version": "3.10.0"
    }
  },
  "nbformat": 4,
  "nbformat_minor": 4
}